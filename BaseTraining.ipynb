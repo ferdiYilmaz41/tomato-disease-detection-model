{
 "cells": [
  {
   "cell_type": "code",
   "execution_count": 1,
   "id": "152dc981-fb7d-4c13-a431-1dbda6ca61ae",
   "metadata": {},
   "outputs": [],
   "source": [
    "import os\n",
    "import numpy as np\n",
    "import matplotlib.pyplot as plt"
   ]
  },
  {
   "cell_type": "code",
   "execution_count": 2,
   "id": "0685ea5d-5e59-4625-a377-6689a61fa9c2",
   "metadata": {},
   "outputs": [],
   "source": [
    "from tensorflow.keras.preprocessing.image import ImageDataGenerator\n",
    "from tensorflow.keras.applications import MobileNet\n",
    "from tensorflow.keras.layers import GlobalAveragePooling2D, Dense\n"
   ]
  },
  {
   "cell_type": "code",
   "execution_count": 3,
   "id": "410b9c8b-5b78-4b33-bd2e-e27c387a655c",
   "metadata": {},
   "outputs": [],
   "source": [
    "from tensorflow.keras.models import Model\n",
    "from tensorflow.keras.optimizers import Adam"
   ]
  },
  {
   "cell_type": "code",
   "execution_count": 4,
   "id": "42987f1b-661b-4da6-943b-d8b369d6230d",
   "metadata": {},
   "outputs": [],
   "source": [
    "##Dataset yolu belirlendi\n",
    "base_dir = 'C:/Users/ferdi/Desktop/Bitirme Klasörü/Training_Model/tomato' \n",
    "train_dir = os.path.join(base_dir, 'train') "
   ]
  },
  {
   "cell_type": "code",
   "execution_count": 5,
   "id": "74a231e1-e62f-4778-88b3-bada5048bfca",
   "metadata": {},
   "outputs": [],
   "source": [
    "train_datagen = ImageDataGenerator(\n",
    "    rescale=1./255,\n",
    "    rotation_range=40,\n",
    "    width_shift_range=0.2,\n",
    "    height_shift_range=0.2,\n",
    "    shear_range=0.2,\n",
    "    zoom_range=0.2,\n",
    "    horizontal_flip=True,\n",
    "    fill_mode='nearest')\n"
   ]
  },
  {
   "cell_type": "code",
   "execution_count": 6,
   "id": "ea531dca-ad97-4641-838c-3e73ab4bca50",
   "metadata": {},
   "outputs": [
    {
     "name": "stdout",
     "output_type": "stream",
     "text": [
      "Found 10000 images belonging to 10 classes.\n"
     ]
    }
   ],
   "source": [
    "train_generator = train_datagen.flow_from_directory(\n",
    "    train_dir,\n",
    "    target_size=(224, 224),\n",
    "    batch_size=32,\n",
    "    class_mode='categorical')"
   ]
  },
  {
   "cell_type": "code",
   "execution_count": 7,
   "id": "0c39e30d-d37f-428d-96b2-208fb8d30eaa",
   "metadata": {},
   "outputs": [],
   "source": [
    "## Ebeveyn modelden bilgiler aktarıldı\n",
    "base_model = MobileNet(weights='imagenet', include_top=False, input_shape=(224, 224, 3))\n"
   ]
  },
  {
   "cell_type": "code",
   "execution_count": 8,
   "id": "9a78a14b-b363-49a0-8b95-cc3fa2eaafc3",
   "metadata": {},
   "outputs": [],
   "source": [
    "## Katmanlar donduruldu\n",
    "base_model.trainable = False"
   ]
  },
  {
   "cell_type": "code",
   "execution_count": 9,
   "id": "86c93ca3-b291-46c0-b43c-9d431194ae09",
   "metadata": {},
   "outputs": [],
   "source": [
    "## Modeli optimize edecek katmanlar eklendi\n",
    "x = base_model.output\n",
    "x = GlobalAveragePooling2D()(x)\n",
    "x = Dense(1024, activation='relu')(x)  #  katmanlar \n",
    "predictions = Dense(10, activation='softmax')(x)  # 10 sınıf var\n"
   ]
  },
  {
   "cell_type": "code",
   "execution_count": 10,
   "id": "7a6e1f14-ce49-43be-ac08-3c4f25962afd",
   "metadata": {},
   "outputs": [],
   "source": [
    "model = Model(inputs=base_model.input, outputs=predictions)"
   ]
  },
  {
   "cell_type": "code",
   "execution_count": 11,
   "id": "90a223dc-1d38-454e-8981-f763955e4e09",
   "metadata": {},
   "outputs": [],
   "source": [
    "## Model derlendi\n",
    "model.compile(optimizer=Adam(learning_rate=0.001),loss='categorical_crossentropy', metrics=['accuracy'])"
   ]
  },
  {
   "cell_type": "code",
   "execution_count": null,
   "id": "0f32c4e4-ae6f-4b47-9d15-4360115eb5de",
   "metadata": {},
   "outputs": [],
   "source": [
    "## Eğitim yapıldı\n",
    "history = model.fit(\n",
    "    train_generator,\n",
    "    steps_per_epoch=train_generator.samples//train_generator.batch_size,epochs=40)"
   ]
  },
  {
   "cell_type": "code",
   "execution_count": null,
   "id": "eb29ec73-8afa-46cf-b93c-90fc03c367fd",
   "metadata": {},
   "outputs": [],
   "source": [
    "## Eğitimin grafiği çizildi\n",
    "acc = history.history['accuracy']\n",
    "loss = history.history['loss']\n",
    "\n",
    "plt.figure(figsize=(8, 8))\n",
    "plt.subplot(2, 1, 1)\n",
    "plt.plot(acc, label='Eğitim Doğruluğu')\n",
    "plt.legend(loc='lower right')\n",
    "plt.title('Eğitim Doğruluğu')\n",
    "\n",
    "plt.subplot(2, 1, 2)\n",
    "plt.plot(loss, label='Eğitim Kaybı')\n",
    "plt.legend(loc='upper right')\n",
    "plt.title('Eğitim Kaybı')\n",
    "plt.show()\n"
   ]
  },
  {
   "cell_type": "code",
   "execution_count": 14,
   "id": "872deeea-93b5-42dd-baa7-ac90adb3ad2f",
   "metadata": {},
   "outputs": [],
   "source": [
    "test_dir=os.path.join(base_dir, 'val') "
   ]
  },
  {
   "cell_type": "code",
   "execution_count": 15,
   "id": "7885a6c9-3bb5-4126-9f06-ec99056a8dd3",
   "metadata": {},
   "outputs": [
    {
     "name": "stdout",
     "output_type": "stream",
     "text": [
      "Found 984 images belonging to 10 classes.\n"
     ]
    }
   ],
   "source": [
    "test_datagen = ImageDataGenerator(rescale=1./255)\n",
    "\n",
    "test_generator = test_datagen.flow_from_directory(\n",
    "    test_dir,  # Test veri setinin klasör yolu\n",
    "    target_size=(224, 224),\n",
    "    batch_size=32,\n",
    "    class_mode='categorical',\n",
    "    shuffle=False\n",
    ")"
   ]
  },
  {
   "cell_type": "code",
   "execution_count": null,
   "id": "85fbeba5-95f3-460e-a9f3-4fbd05f5ea6e",
   "metadata": {},
   "outputs": [],
   "source": [
    "avg_train_accuracy = np.mean(history.history['accuracy'])\n",
    "avg_train_loss = np.mean(history.history['loss'])\n",
    "print(\"Ortalama doğruluk oranı:\" , avg_train_accuracy)\n",
    "print(\"Ortalama kayıp oranı:\", avg_train_loss)"
   ]
  },
  {
   "cell_type": "code",
   "execution_count": null,
   "id": "95db5595-c8e2-4932-9811-7cc50b59b084",
   "metadata": {},
   "outputs": [],
   "source": [
    "predictions = model.predict(test_generator, steps=len(test_generator))\n",
    "predicted_classes = np.argmax(predictions, axis=1)\n",
    "true_classes = test_generator.classes"
   ]
  },
  {
   "cell_type": "code",
   "execution_count": 19,
   "id": "7f150153-46e2-4eeb-a84c-e02eca82df31",
   "metadata": {},
   "outputs": [
    {
     "name": "stdout",
     "output_type": "stream",
     "text": [
      "984\n"
     ]
    }
   ],
   "source": [
    "print(len(predicted_classes))"
   ]
  },
  {
   "cell_type": "code",
   "execution_count": null,
   "id": "d72e963c-e6ef-4bbc-a40f-0814c8f00ee6",
   "metadata": {},
   "outputs": [],
   "source": [
    "from sklearn.metrics import confusion_matrix, ConfusionMatrixDisplay\n",
    "\n",
    "# Confusion matrix hesaplama\n",
    "cm = confusion_matrix(true_classes, predicted_classes, labels=np.arange(10))  # 10 sınıf var\n",
    "\n",
    "# Confusion matrix çizdirme\n",
    "fig, ax = plt.subplots(figsize=(10, 10))\n",
    "disp = ConfusionMatrixDisplay(confusion_matrix=cm, display_labels=np.arange(10))\n",
    "disp.plot(cmap=plt.cm.Blues, ax=ax)\n",
    "plt.show()"
   ]
  },
  {
   "cell_type": "code",
   "execution_count": null,
   "id": "a13d821a-8079-462e-ad6b-251a76e74e99",
   "metadata": {},
   "outputs": [],
   "source": [
    "from sklearn.metrics import classification_report\n",
    "import pandas as pd\n",
    "\n",
    "# Modelin sınıflandırma raporunu al\n",
    "report = classification_report(true_classes, predicted_classes, labels=np.arange(10), output_dict=True)\n",
    "\n",
    "# F1 skorlarını bir DataFrame'e dönüştür\n",
    "f1_scores = pd.DataFrame(report).transpose()\n",
    "\n",
    "# F1 skorlarını çıktı olarak göster\n",
    "print(f1_scores[['f1-score']])"
   ]
  },
  {
   "cell_type": "code",
   "execution_count": 22,
   "id": "52e4ed27-0172-4d92-a8af-f0a401c6d021",
   "metadata": {},
   "outputs": [
    {
     "name": "stderr",
     "output_type": "stream",
     "text": [
      "WARNING:absl:You are saving your model as an HDF5 file via `model.save()` or `keras.saving.save_model(model)`. This file format is considered legacy. We recommend using instead the native Keras format, e.g. `model.save('my_model.keras')` or `keras.saving.save_model(model, 'my_model.keras')`. \n"
     ]
    }
   ],
   "source": [
    "model.save('model_v2.0.0.h5')"
   ]
  },
  {
   "cell_type": "code",
   "execution_count": 23,
   "id": "77595f2d-a675-457f-9eb1-1035fbd79243",
   "metadata": {},
   "outputs": [],
   "source": [
    "model.save('model_v2.0.0.keras')"
   ]
  },
  {
   "cell_type": "code",
   "execution_count": null,
   "id": "ef5930bb-c98b-4941-8fd9-49e8d2237510",
   "metadata": {},
   "outputs": [],
   "source": [
    "keras.saving.save_model(model, 'model_v1.0.1.keras')"
   ]
  },
  {
   "cell_type": "code",
   "execution_count": 23,
   "id": "62c15dc5-f53c-4b44-bf53-2bffabfe06f3",
   "metadata": {},
   "outputs": [],
   "source": [
    "img_path='tomato/val/Tomato___Bacterial_spot/0ab54691-ba9f-4c1f-a69b-ec0501df4401___GCREC_Bact.Sp 3170.jpg'"
   ]
  },
  {
   "cell_type": "code",
   "execution_count": null,
   "id": "0c7284ac-7bd0-47ee-8344-97a13a4e67bc",
   "metadata": {},
   "outputs": [],
   "source": [
    "img = image.load_img(img_path, target_size=(224, 224))\n",
    "img_array = image.img_to_array(img)\n",
    "img_array = np.expand_dims(img_array, axis=0)\n",
    "\n",
    "\n",
    "# Tahmin yap\n",
    "predictions = model.predict(img_array)\n",
    "decoded_predictions = decode_predictions(predictions, top=3)[0]  # İlk üç tahmini al\n",
    "\n",
    "# Tahminleri yazdır\n",
    "for i, (imagenet_id, label, score) in enumerate(decoded_predictions):\n",
    "    print(f\"{i + 1}: {label} ({score:.2f})\")"
   ]
  },
  {
   "cell_type": "code",
   "execution_count": null,
   "id": "accdac57-5c3b-4e94-bdb2-256c29aba5ff",
   "metadata": {},
   "outputs": [],
   "source": [
    "## Keras modelini tflite modeline çevirme\n",
    "import tensorflow as tf\n",
    "\n",
    "# Keras modelini yeniden yükleme\n",
    "model = tf.keras.models.load_model('/content/drive/MyDrive/Colab Notebooks/modelV1.keras')\n",
    "\n",
    "# Modeli TFLite formatına dönüştürme\n",
    "converter = tf.lite.TFLiteConverter.from_keras_model(model)\n",
    "tflite_model = converter.convert()\n",
    "\n",
    "# TFLite modelini dosya olarak yeniden kaydetme\n",
    "model_path = '/content/drive/MyDrive/Colab Notebooks/modelV1.tflite'\n",
    "with open(model_path, 'wb') as f:\n",
    "    f.write(tflite_model)"
   ]
  },
  {
   "cell_type": "code",
   "execution_count": null,
   "id": "c45de27a",
   "metadata": {},
   "outputs": [],
   "source": []
  }
 ],
 "metadata": {
  "kernelspec": {
   "display_name": "Python 3 (ipykernel)",
   "language": "python",
   "name": "python3"
  },
  "language_info": {
   "codemirror_mode": {
    "name": "ipython",
    "version": 3
   },
   "file_extension": ".py",
   "mimetype": "text/x-python",
   "name": "python",
   "nbconvert_exporter": "python",
   "pygments_lexer": "ipython3",
   "version": "3.12.2"
  }
 },
 "nbformat": 4,
 "nbformat_minor": 5
}
